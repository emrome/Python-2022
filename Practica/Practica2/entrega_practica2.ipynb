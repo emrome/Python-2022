{
 "cells": [
  {
   "cell_type": "markdown",
   "metadata": {},
   "source": [
    "Primero abre y lee los archivos asignándoselos a sus respectivas variables"
   ]
  },
  {
   "cell_type": "code",
   "execution_count": 7,
   "metadata": {},
   "outputs": [],
   "source": [
    "file_nombres=open('nombres_1.txt','r',encoding='utf8')\n",
    "file_notas_1=open('eval1.txt','r')\n",
    "file_notas_2=open('eval2.txt','r')\n",
    "nombres=file_nombres.read()\n",
    "notas_1=file_notas_1.read()\n",
    "notas_2=file_notas_2.read()"
   ]
  },
  {
   "cell_type": "markdown",
   "metadata": {},
   "source": [
    "Luego los estructuro en listas, quitándoles las comas y comillas para quedarme con los datos sin ningún caracter especial"
   ]
  },
  {
   "cell_type": "code",
   "execution_count": 8,
   "metadata": {},
   "outputs": [],
   "source": [
    "nombres=nombres.replace(\",\",\"\").replace(\"'\",\"\").split()\n",
    "notas_1=notas_1.replace(\",\",\"\").split()\n",
    "notas_2=notas_2.replace(\",\",\"\").split()"
   ]
  },
  {
   "cell_type": "markdown",
   "metadata": {},
   "source": [
    "Utilizando la función zip, que toma iterables y los agrega en una tupla, guardando la suma de las notas, convertidas a enteros de las dos evaluaciones de cada alumno en una lista.\n",
    "\n",
    "Luego tomando esa lista y la lista de nombres, almaceno en otra estructura de tipo lista la información de cada alumno. Esta lista esta compuesta de tuplas, siendo el primer elemento el nombre y el segundo la suma de sus dos evaluaciones."
   ]
  },
  {
   "cell_type": "code",
   "execution_count": 9,
   "metadata": {},
   "outputs": [],
   "source": [
    "\n",
    "notas_total=list(int(n)+int(y) for n,y in zip(notas_2,notas_1))\n",
    "estudiantes=list(zip(nombres,notas_total))"
   ]
  },
  {
   "cell_type": "markdown",
   "metadata": {},
   "source": [
    "Inicializo una variable promedio.\n",
    "Itero sobre la lista de notas, sumando cada elemento a la variable promedio.\n",
    "Luego esa variable la divido por la cantidad de alumnos, para asi obtener efectivamaente el promedio de las notas."
   ]
  },
  {
   "cell_type": "code",
   "execution_count": 10,
   "metadata": {},
   "outputs": [],
   "source": [
    "\n",
    "promedio=0\n",
    "for n in notas_total: \n",
    "    promedio=n+promedio\n",
    "\n",
    "promedio=promedio/len(notas_total)"
   ]
  },
  {
   "cell_type": "markdown",
   "metadata": {},
   "source": [
    "Una vez obtenido el promedio, recorro la lista de estudiantes accediendo a sus notas y comparandolas con el promedio. En caso de que ésta esté por debajo del mismo, informo el nombre del alumno."
   ]
  },
  {
   "cell_type": "code",
   "execution_count": null,
   "metadata": {},
   "outputs": [],
   "source": [
    "print('Alumnos por debajo del promedio')\n",
    "for pos in range(len(estudiantes)):\n",
    "    if((estudiantes[pos][1])<promedio):\n",
    "       print(estudiantes[pos][0])"
   ]
  },
  {
   "cell_type": "markdown",
   "metadata": {},
   "source": [
    "Por último, cierro los tres archivos ya que no se seguiran utilizando."
   ]
  },
  {
   "cell_type": "code",
   "execution_count": null,
   "metadata": {},
   "outputs": [],
   "source": [
    "file_nombres.close()\n",
    "file_notas_1.close()\n",
    "file_notas_2.close()"
   ]
  }
 ],
 "metadata": {
  "interpreter": {
   "hash": "eb5ebf3398967a08beab6d6107e76b535dae3cdd694d56f39003fa27824df26e"
  },
  "kernelspec": {
   "display_name": "Python 3.10.0 64-bit",
   "language": "python",
   "name": "python3"
  },
  "language_info": {
   "codemirror_mode": {
    "name": "ipython",
    "version": 3
   },
   "file_extension": ".py",
   "mimetype": "text/x-python",
   "name": "python",
   "nbconvert_exporter": "python",
   "pygments_lexer": "ipython3",
   "version": "3.10.0"
  },
  "orig_nbformat": 4
 },
 "nbformat": 4,
 "nbformat_minor": 2
}
